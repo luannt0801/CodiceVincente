{
 "cells": [
  {
   "cell_type": "code",
   "execution_count": 2,
   "id": "8ab88247",
   "metadata": {},
   "outputs": [
    {
     "name": "stderr",
     "output_type": "stream",
     "text": [
      "Downloading data from 'https://github.com/danielgatis/rembg/releases/download/v0.0.0/u2net.onnx' to file 'C:\\Users\\Admin\\.u2net\\u2net.onnx'.\n",
      "100%|########################################| 176M/176M [00:00<00:00, 173GB/s]\n"
     ]
    },
    {
     "name": "stdout",
     "output_type": "stream",
     "text": [
      "Background removed and saved to output_image_no_bg.png\n"
     ]
    }
   ],
   "source": [
    "from rembg import remove\n",
    "from PIL import Image\n",
    "\n",
    "# Define input and output paths\n",
    "input_path = 'C:/Users/Admin/Desktop/Codice_Vincente/Leopard_2_A5_der_Bundeswehr.jpg'  # Replace with your image file\n",
    "output_path = 'output_image_no_bg.png'\n",
    "\n",
    "# Open the input image\n",
    "with Image.open(input_path) as img:\n",
    "    # Remove the background\n",
    "    output_img = remove(img)\n",
    "    # Save the resulting image\n",
    "    output_img.save(output_path)\n",
    "\n",
    "print(f\"Background removed and saved to {output_path}\")"
   ]
  }
 ],
 "metadata": {
  "kernelspec": {
   "display_name": "venv",
   "language": "python",
   "name": "python3"
  },
  "language_info": {
   "codemirror_mode": {
    "name": "ipython",
    "version": 3
   },
   "file_extension": ".py",
   "mimetype": "text/x-python",
   "name": "python",
   "nbconvert_exporter": "python",
   "pygments_lexer": "ipython3",
   "version": "3.12.2"
  }
 },
 "nbformat": 4,
 "nbformat_minor": 5
}
